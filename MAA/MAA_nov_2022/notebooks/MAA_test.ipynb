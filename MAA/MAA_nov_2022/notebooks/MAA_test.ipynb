{
 "cells": [
  {
   "cell_type": "code",
   "execution_count": 1,
   "metadata": {},
   "outputs": [],
   "source": [
    "import pypsa \n",
    "import numpy as np\n",
    "from pypsa.linopt import get_var, linexpr, join_exprs, define_constraints, get_dual, get_con, write_objective, get_sol, define_variables\n",
    "from pypsa.descriptors import nominal_attrs\n",
    "from pypsa.linopf import lookup, network_lopf, ilopf\n",
    "from pypsa.pf import get_switchable_as_dense as get_as_dense\n",
    "from pypsa.descriptors import get_extendable_i, get_non_extendable_i\n",
    "import matplotlib.pyplot as plt\n",
    "import pandas as pd\n",
    "from scipy.spatial import ConvexHull\n",
    "import os\n",
    "import sys"
   ]
  },
  {
   "cell_type": "code",
   "execution_count": 2,
   "metadata": {},
   "outputs": [],
   "source": [
    "\n",
    "def extra_functionality(n,snapshots,options,direction):\n",
    "    define_mga_constraint(n,snapshots,options['mga_slack'])\n",
    "    define_mga_objective(n,snapshots,direction,options)\n",
    "\n",
    "\n",
    "\n",
    "def assign_carriers(n):\n",
    "    \"\"\"\n",
    "    Author: Fabian Neumann \n",
    "    Source: https://github.com/PyPSA/pypsa-eur-mga\n",
    "    \"\"\"\n",
    "\n",
    "    if \"Load\" in n.carriers.index:\n",
    "        n.carriers = n.carriers.drop(\"Load\")\n",
    "\n",
    "    if \"carrier\" not in n.lines:\n",
    "        n.lines[\"carrier\"] = \"AC\"\n",
    "\n",
    "    if n.links.empty:\n",
    "        n.links[\"carrier\"] = pd.Series(dtype=str)\n",
    "\n",
    "    config = {\n",
    "        \"AC\": {\"color\": \"rosybrown\", \"nice_name\": \"HVAC Line\"},\n",
    "        \"DC\": {\"color\": \"darkseagreen\", \"nice_name\": \"HVDC Link\"},\n",
    "    }\n",
    "    for c in [\"AC\", \"DC\"]:\n",
    "        if c in n.carriers.index:\n",
    "            continue\n",
    "        n.carriers = n.carriers.append(pd.Series(config[c], name=c))\n",
    "\n",
    "def define_mga_constraint(n, sns, epsilon=None, with_fix=False):\n",
    "    \"\"\"\n",
    "    Author: Fabian Neumann \n",
    "    Source: https://github.com/PyPSA/pypsa-eur-mga\n",
    "    \n",
    "    Build constraint defining near-optimal feasible space\n",
    "    Parameters\n",
    "    ----------\n",
    "    n : pypsa.Network\n",
    "    sns : Series|list-like\n",
    "        snapshots\n",
    "    epsilon : float, optional\n",
    "        Allowed added cost compared to least-cost solution, by default None\n",
    "    with_fix : bool, optional\n",
    "        Calculation of allowed cost penalty should include cost of non-extendable components, by default None\n",
    "    \"\"\"\n",
    "\n",
    "    if epsilon is None:\n",
    "        epsilon = float(snakemake.wildcards.epsilon)\n",
    "\n",
    "    if with_fix is None:\n",
    "        with_fix = snakemake.config.get(\"include_non_extendable\", True)\n",
    "\n",
    "    expr = []\n",
    "\n",
    "    # operation\n",
    "    for c, attr in lookup.query(\"marginal_cost\").index:\n",
    "        cost = (\n",
    "            get_as_dense(n, c, \"marginal_cost\", sns)\n",
    "            .loc[:, lambda ds: (ds != 0).all()]\n",
    "            .mul(n.snapshot_weightings.loc[sns,'objective'], axis=0)\n",
    "        )\n",
    "        if cost.empty:\n",
    "            continue\n",
    "        expr.append(linexpr((cost, get_var(n, c, attr).loc[sns, cost.columns])).stack())\n",
    "\n",
    "    # investment\n",
    "    for c, attr in nominal_attrs.items():\n",
    "        cost = n.df(c)[\"capital_cost\"][get_extendable_i(n, c)]\n",
    "        if cost.empty:\n",
    "            continue\n",
    "        expr.append(linexpr((cost, get_var(n, c, attr)[cost.index])))\n",
    "\n",
    "    lhs = pd.concat(expr).sum()\n",
    "\n",
    "    if with_fix:\n",
    "        ext_const = objective_constant(n, ext=True, nonext=False)\n",
    "        nonext_const = objective_constant(n, ext=False, nonext=True)\n",
    "        rhs = (1 + epsilon) * (n.objective_optimum + ext_const + nonext_const) - nonext_const\n",
    "    else:\n",
    "        ext_const = objective_constant(n)\n",
    "        rhs = (1 + epsilon) * (n.objective_optimum + ext_const)\n",
    "\n",
    "    define_constraints(n, lhs, \"<=\", rhs, \"GlobalConstraint\", \"mu_epsilon\")\n",
    "\n",
    "def objective_constant(n, ext=True, nonext=True):\n",
    "    \"\"\"\n",
    "    Author: Fabian Neumann \n",
    "    Source: https://github.com/PyPSA/pypsa-eur-mga\n",
    "    \"\"\"\n",
    "\n",
    "    if not (ext or nonext):\n",
    "        return 0.0\n",
    "\n",
    "    constant = 0.0\n",
    "    for c, attr in nominal_attrs.items():\n",
    "        i = pd.Index([])\n",
    "        if ext:\n",
    "            i = i.append(get_extendable_i(n, c))\n",
    "        if nonext:\n",
    "            i = i.append(get_non_extendable_i(n, c))\n",
    "        constant += n.df(c)[attr][i] @ n.df(c).capital_cost[i]\n",
    "\n",
    "    return constant\n",
    "\n",
    "\n",
    "def define_mga_objective(n,snapshots,direction,options):\n",
    "    mga_variables = options['mga_variables']\n",
    "    expr_list = []\n",
    "    for dir_i,var_i in zip(direction,mga_variables):\n",
    "        model_vars = get_var(n,var_i[0],'p_nom')[n.df(var_i[0]).carrier == var_i[1]]\n",
    "        tmp_expr = linexpr((dir_i/len(model_vars),model_vars)).sum()\n",
    "        expr_list.append(tmp_expr)\n",
    "\n",
    "    mga_obj = join_exprs(np.array(expr_list))\n",
    "    write_objective(n,mga_obj)\n",
    "\n",
    "\n",
    "def get_var_values(n,mga_variables):\n",
    "\n",
    "    variable_values = {}\n",
    "    for var_i in variables:\n",
    "        val = n.df(variables[var_i][0]).query('carrier == \"{}\"'.format(variables[var_i][1])).p_nom_opt.sum()\n",
    "        variable_values[var_i] = val\n",
    "\n",
    "    return variable_values"
   ]
  },
  {
   "cell_type": "code",
   "execution_count": 3,
   "metadata": {},
   "outputs": [
    {
     "name": "stderr",
     "output_type": "stream",
     "text": [
      "WARNING:pypsa.io:\n",
      "Importing PyPSA from older version of PyPSA than current version.\n",
      "Please read the release notes at https://pypsa.readthedocs.io/en/latest/release_notes.html\n",
      "carefully to prepare your network for import.\n",
      "Currently used PyPSA version [0, 20, 0], imported network file PyPSA version [0, 17, 1].\n",
      "\n",
      "INFO:pypsa.components:Applying weightings to all columns of `snapshot_weightings`\n",
      "INFO:pypsa.io:Imported network elec_s_37_ec_lcopt_Co2L.nc has buses, carriers, generators, global_constraints, lines, links, loads, storage_units\n"
     ]
    }
   ],
   "source": [
    "n = pypsa.Network('../networks/elec_s_37_ec_lcopt_Co2L.nc')"
   ]
  },
  {
   "cell_type": "code",
   "execution_count": 4,
   "metadata": {},
   "outputs": [
    {
     "data": {
      "text/plain": [
       "(<matplotlib.collections.PatchCollection at 0x1c228733430>,\n",
       " <matplotlib.collections.LineCollection at 0x1c2287510d0>,\n",
       " <matplotlib.collections.LineCollection at 0x1c22875c040>)"
      ]
     },
     "execution_count": 4,
     "metadata": {},
     "output_type": "execute_result"
    },
    {
     "data": {
      "image/png": "[encoded data removed]",
      "text/plain": [
       "<Figure size 432x288 with 1 Axes>"
      ]
     },
     "metadata": {
      "needs_background": "light"
     },
     "output_type": "display_data"
    }
   ],
   "source": [
    "n.plot()"
   ]
  },
  {
   "cell_type": "code",
   "execution_count": 5,
   "metadata": {},
   "outputs": [],
   "source": [
    "n.snapshots = n.snapshots[:10]\n",
    "n.snapshot_weightings = n.snapshot_weightings[:10]"
   ]
  },
  {
   "cell_type": "code",
   "execution_count": 16,
   "metadata": {},
   "outputs": [
    {
     "name": "stderr",
     "output_type": "stream",
     "text": [
      "INFO:pypsa.linopf:Prepare linear problem\n",
      "INFO:pypsa.linopf:Total preparation time: 0.52s\n",
      "INFO:pypsa.linopf:Solve linear problem using Gurobi solver\n"
     ]
    },
    {
     "name": "stdout",
     "output_type": "stream",
     "text": [
      "Read LP format model from file C:\\Users\\lukas\\AppData\\Local\\Temp\\pypsa-problem-bm1r6y5t.lp\n",
      "Reading time = 0.03 seconds\n",
      "obj: 10541 rows, 4901 columns, 22854 nonzeros\n",
      "Gurobi Optimizer version 9.5.2 build v9.5.2rc0 (win64)\n",
      "Thread count: 4 physical cores, 8 logical processors, using up to 8 threads\n",
      "Optimize a model with 10541 rows, 4901 columns and 22854 nonzeros\n",
      "Model fingerprint: 0x047f2c8b\n",
      "Coefficient statistics:\n",
      "  Matrix range     [3e-04, 3e+02]\n",
      "  Objective range  [1e-02, 2e+05]\n",
      "  Bounds range     [9e+00, 6e+09]\n",
      "  RHS range        [1e+01, 8e+07]\n",
      "Warning: Model contains large bounds\n",
      "         Consider reformulating model or setting NumericFocus parameter\n",
      "         to avoid numerical issues.\n",
      "Presolve removed 4541 rows and 608 columns\n",
      "Presolve time: 0.02s\n",
      "Presolved: 6000 rows, 4293 columns, 18282 nonzeros\n",
      "\n",
      "Iteration    Objective       Primal Inf.    Dual Inf.      Time\n",
      "       0      handle free variables                          0s\n",
      "Warning: Markowitz tolerance tightened to 0.03125\n",
      "    8853    4.9730455e+10   0.000000e+00   0.000000e+00      1s\n",
      "\n",
      "Solved in 8853 iterations and 1.35 seconds (1.98 work units)\n",
      "Optimal objective  4.973045466e+10\n"
     ]
    },
    {
     "name": "stderr",
     "output_type": "stream",
     "text": [
      "INFO:pypsa.linopf:Optimization successful. Objective value: 4.97e+10\n"
     ]
    },
    {
     "data": {
      "text/plain": [
       "('ok', 'optimal')"
      ]
     },
     "execution_count": 16,
     "metadata": {},
     "output_type": "execute_result"
    }
   ],
   "source": [
    "n.lopf(pyomo = False,\n",
    "      solver_name = 'gurobi'\n",
    "      )"
   ]
  },
  {
   "cell_type": "code",
   "execution_count": 17,
   "metadata": {},
   "outputs": [
    {
     "name": "stdout",
     "output_type": "stream",
     "text": [
      "49730454657.7523\n"
     ]
    }
   ],
   "source": [
    "print(n.objective)\n",
    "mga_slack = 0.5"
   ]
  },
  {
   "cell_type": "code",
   "execution_count": 8,
   "metadata": {},
   "outputs": [],
   "source": [
    "#n.objective_optimum = 203.73600192008445*1e9\n",
    "n.objective_optimum = 49730454657.751976"
   ]
  },
  {
   "cell_type": "code",
   "execution_count": 9,
   "metadata": {},
   "outputs": [
    {
     "data": {
      "text/plain": [
       "array(['offwind-ac', 'onwind', 'solar', 'OCGT', 'offwind-dc'],\n",
       "      dtype=object)"
      ]
     },
     "execution_count": 9,
     "metadata": {},
     "output_type": "execute_result"
    }
   ],
   "source": [
    "n.generators.loc[:,\"carrier\"].unique()"
   ]
  },
  {
   "cell_type": "code",
   "execution_count": 10,
   "metadata": {},
   "outputs": [],
   "source": [
    "variables = {'x1':('Generator','onwind'),\n",
    "            'x2':('Generator','offwind-ac'),\n",
    "            'x3':('Generator','offwind-dc'),\n",
    "            'x4':('Generator','solar'),\n",
    "            'x5':('StorageUnit','H2'),\n",
    "            'x6':('Link','DC')\n",
    "            }"
   ]
  },
  {
   "cell_type": "markdown",
   "metadata": {},
   "source": [
    "## Search in a single direction \n"
   ]
  },
  {
   "cell_type": "code",
   "execution_count": 18,
   "metadata": {},
   "outputs": [
    {
     "name": "stderr",
     "output_type": "stream",
     "text": [
      "INFO:pypsa.linopf:Prepare linear problem\n",
      "INFO:pypsa.linopf:The argument `skip_objective` is set to True. Expecting a custom objective to be build via `extra_functionality`.\n",
      "INFO:pypsa.linopf:Total preparation time: 0.55s\n",
      "INFO:pypsa.linopf:Solve linear problem using Gurobi solver\n"
     ]
    },
    {
     "name": "stdout",
     "output_type": "stream",
     "text": [
      "Read LP format model from file C:\\Users\\lukas\\AppData\\Local\\Temp\\pypsa-problem-tpsrtz5w.lp\n",
      "Reading time = 0.03 seconds\n",
      "obj: 10542 rows, 4900 columns, 24624 nonzeros\n"
     ]
    },
    {
     "name": "stderr",
     "output_type": "stream",
     "text": [
      "INFO:pypsa.linopf:Optimization successful. Objective value: 0.00e+00\n"
     ]
    }
   ],
   "source": [
    "direction = [1,1] # 1 means minimize, -1 means maximize \n",
    "mga_variables = ['x1','x2'] # The variables that we are investigating\n",
    "\n",
    "options = dict(mga_slack=mga_slack,\n",
    "                mga_variables=[variables[v] for v in mga_variables])\n",
    "\n",
    "res = n.lopf(pyomo=False,\n",
    "        solver_name='gurobi',\n",
    "        keep_references=True,\n",
    "        keep_shadowprices=True,\n",
    "        skip_objective=True,\n",
    "        solver_options={'LogToConsole':0,\n",
    "                'crossover':0,\n",
    "                'BarConvTol' : 1e-6,                 \n",
    "                'FeasibilityTol' : 1e-2,\n",
    "            'threads':2},\n",
    "        extra_functionality=lambda n,s: extra_functionality(n,s,options,direction)\n",
    "    )\n"
   ]
  },
  {
   "cell_type": "code",
   "execution_count": null,
   "metadata": {},
   "outputs": [],
   "source": []
  },
  {
   "cell_type": "code",
   "execution_count": 19,
   "metadata": {},
   "outputs": [
    {
     "data": {
      "text/plain": [
       "{'x1': 0.0,\n",
       " 'x2': 0.0,\n",
       " 'x3': 278349.1988597958,\n",
       " 'x4': 0.0,\n",
       " 'x5': 0.0,\n",
       " 'x6': 133655.07147493382}"
      ]
     },
     "execution_count": 19,
     "metadata": {},
     "output_type": "execute_result"
    }
   ],
   "source": [
    "all_variable_values = get_var_values(n,mga_variables)\n",
    "all_variable_values"
   ]
  },
  {
   "cell_type": "markdown",
   "metadata": {},
   "source": [
    "# MAA"
   ]
  },
  {
   "cell_type": "code",
   "execution_count": 20,
   "metadata": {},
   "outputs": [],
   "source": [
    "def search_direction(direction,mga_variables):\n",
    "    options = dict(mga_slack=mga_slack,\n",
    "                    mga_variables=[variables[v] for v in mga_variables])\n",
    "\n",
    "    res = n.lopf(pyomo=False,\n",
    "            solver_name='gurobi',\n",
    "            #keep_references=True,\n",
    "            #keep_shadowprices=True,\n",
    "            skip_objective=True,\n",
    "            solver_options={'LogToConsole':0,\n",
    "                    'crossover':0,\n",
    "                    'BarConvTol' : 1e-6,                 \n",
    "                    'FeasibilityTol' : 1e-2,\n",
    "                'threads':2},\n",
    "            extra_functionality=lambda n,s: extra_functionality(n,s,options,direction)\n",
    "        )\n",
    "\n",
    "    all_variable_values = get_var_values(n,mga_variables)\n",
    "\n",
    "    return [all_variable_values[v] for v in mga_variables]"
   ]
  },
  {
   "cell_type": "code",
   "execution_count": 21,
   "metadata": {},
   "outputs": [
    {
     "name": "stderr",
     "output_type": "stream",
     "text": [
      "INFO:pypsa.linopf:Prepare linear problem\n",
      "INFO:pypsa.linopf:The argument `skip_objective` is set to True. Expecting a custom objective to be build via `extra_functionality`.\n",
      "INFO:pypsa.linopf:Total preparation time: 0.5s\n",
      "INFO:pypsa.linopf:Solve linear problem using Gurobi solver\n"
     ]
    },
    {
     "name": "stdout",
     "output_type": "stream",
     "text": [
      "Read LP format model from file C:\\Users\\lukas\\AppData\\Local\\Temp\\pypsa-problem-6wx1zlvh.lp\n",
      "Reading time = 0.04 seconds\n",
      "obj: 10542 rows, 4900 columns, 24624 nonzeros\n"
     ]
    },
    {
     "name": "stderr",
     "output_type": "stream",
     "text": [
      "INFO:pypsa.linopf:Optimization successful. Objective value: 0.00e+00\n",
      "INFO:pypsa.linopf:Prepare linear problem\n",
      "INFO:pypsa.linopf:The argument `skip_objective` is set to True. Expecting a custom objective to be build via `extra_functionality`.\n",
      "INFO:pypsa.linopf:Total preparation time: 0.51s\n",
      "INFO:pypsa.linopf:Solve linear problem using Gurobi solver\n"
     ]
    },
    {
     "name": "stdout",
     "output_type": "stream",
     "text": [
      "Read LP format model from file C:\\Users\\lukas\\AppData\\Local\\Temp\\pypsa-problem-q0itrid7.lp\n",
      "Reading time = 0.03 seconds\n",
      "obj: 10542 rows, 4900 columns, 24624 nonzeros\n"
     ]
    },
    {
     "name": "stderr",
     "output_type": "stream",
     "text": [
      "INFO:pypsa.linopf:Optimization successful. Objective value: 0.00e+00\n",
      "INFO:pypsa.linopf:Prepare linear problem\n",
      "INFO:pypsa.linopf:The argument `skip_objective` is set to True. Expecting a custom objective to be build via `extra_functionality`.\n",
      "INFO:pypsa.linopf:Total preparation time: 0.5s\n",
      "INFO:pypsa.linopf:Solve linear problem using Gurobi solver\n"
     ]
    },
    {
     "name": "stdout",
     "output_type": "stream",
     "text": [
      "Read LP format model from file C:\\Users\\lukas\\AppData\\Local\\Temp\\pypsa-problem-05cgz38p.lp\n",
      "Reading time = 0.03 seconds\n",
      "obj: 10542 rows, 4900 columns, 24624 nonzeros\n"
     ]
    },
    {
     "name": "stderr",
     "output_type": "stream",
     "text": [
      "INFO:pypsa.linopf:Optimization successful. Objective value: -1.90e+04\n",
      "INFO:pypsa.linopf:Prepare linear problem\n",
      "INFO:pypsa.linopf:The argument `skip_objective` is set to True. Expecting a custom objective to be build via `extra_functionality`.\n",
      "INFO:pypsa.linopf:Total preparation time: 0.51s\n",
      "INFO:pypsa.linopf:Solve linear problem using Gurobi solver\n"
     ]
    },
    {
     "name": "stdout",
     "output_type": "stream",
     "text": [
      "Read LP format model from file C:\\Users\\lukas\\AppData\\Local\\Temp\\pypsa-problem-i0w_qqp9.lp\n",
      "Reading time = 0.03 seconds\n",
      "obj: 10542 rows, 4900 columns, 24624 nonzeros\n"
     ]
    },
    {
     "name": "stderr",
     "output_type": "stream",
     "text": [
      "INFO:pypsa.linopf:Optimization successful. Objective value: -1.23e+04\n",
      "INFO:pypsa.linopf:Prepare linear problem\n"
     ]
    },
    {
     "name": "stdout",
     "output_type": "stream",
     "text": [
      "####### EPSILON ###############\n",
      "1.0\n"
     ]
    },
    {
     "name": "stderr",
     "output_type": "stream",
     "text": [
      "INFO:pypsa.linopf:The argument `skip_objective` is set to True. Expecting a custom objective to be build via `extra_functionality`.\n",
      "INFO:pypsa.linopf:Total preparation time: 0.5s\n",
      "INFO:pypsa.linopf:Solve linear problem using Gurobi solver\n"
     ]
    },
    {
     "name": "stdout",
     "output_type": "stream",
     "text": [
      "Read LP format model from file C:\\Users\\lukas\\AppData\\Local\\Temp\\pypsa-problem-e1hmpwhw.lp\n",
      "Reading time = 0.03 seconds\n",
      "obj: 10542 rows, 4900 columns, 24624 nonzeros\n"
     ]
    },
    {
     "name": "stderr",
     "output_type": "stream",
     "text": [
      "INFO:pypsa.linopf:Optimization successful. Objective value: 0.00e+00\n",
      "INFO:pypsa.linopf:Prepare linear problem\n",
      "INFO:pypsa.linopf:The argument `skip_objective` is set to True. Expecting a custom objective to be build via `extra_functionality`.\n",
      "INFO:pypsa.linopf:Total preparation time: 0.51s\n",
      "INFO:pypsa.linopf:Solve linear problem using Gurobi solver\n"
     ]
    },
    {
     "name": "stdout",
     "output_type": "stream",
     "text": [
      "Read LP format model from file C:\\Users\\lukas\\AppData\\Local\\Temp\\pypsa-problem-05f776mm.lp\n",
      "Reading time = 0.03 seconds\n",
      "obj: 10542 rows, 4900 columns, 24624 nonzeros\n"
     ]
    },
    {
     "name": "stderr",
     "output_type": "stream",
     "text": [
      "INFO:pypsa.linopf:Optimization successful. Objective value: -1.12e+04\n",
      "INFO:pypsa.linopf:Prepare linear problem\n",
      "INFO:pypsa.linopf:The argument `skip_objective` is set to True. Expecting a custom objective to be build via `extra_functionality`.\n",
      "INFO:pypsa.linopf:Total preparation time: 0.51s\n",
      "INFO:pypsa.linopf:Solve linear problem using Gurobi solver\n"
     ]
    },
    {
     "name": "stdout",
     "output_type": "stream",
     "text": [
      "Read LP format model from file C:\\Users\\lukas\\AppData\\Local\\Temp\\pypsa-problem-0z4f7cjd.lp\n",
      "Reading time = 0.04 seconds\n",
      "obj: 10542 rows, 4900 columns, 24624 nonzeros\n"
     ]
    },
    {
     "name": "stderr",
     "output_type": "stream",
     "text": [
      "INFO:pypsa.linopf:Optimization successful. Objective value: 0.00e+00\n",
      "INFO:pypsa.linopf:Prepare linear problem\n",
      "INFO:pypsa.linopf:The argument `skip_objective` is set to True. Expecting a custom objective to be build via `extra_functionality`.\n",
      "INFO:pypsa.linopf:Total preparation time: 0.48s\n",
      "INFO:pypsa.linopf:Solve linear problem using Gurobi solver\n"
     ]
    },
    {
     "name": "stdout",
     "output_type": "stream",
     "text": [
      "Read LP format model from file C:\\Users\\lukas\\AppData\\Local\\Temp\\pypsa-problem-3k0_ajdi.lp\n",
      "Reading time = 0.03 seconds\n",
      "obj: 10542 rows, 4900 columns, 24624 nonzeros\n"
     ]
    },
    {
     "name": "stderr",
     "output_type": "stream",
     "text": [
      "INFO:pypsa.linopf:Optimization successful. Objective value: 0.00e+00\n",
      "INFO:pypsa.linopf:Prepare linear problem\n"
     ]
    },
    {
     "name": "stdout",
     "output_type": "stream",
     "text": [
      "####### EPSILON ###############\n",
      "0.28035452772737945\n"
     ]
    },
    {
     "name": "stderr",
     "output_type": "stream",
     "text": [
      "INFO:pypsa.linopf:The argument `skip_objective` is set to True. Expecting a custom objective to be build via `extra_functionality`.\n",
      "INFO:pypsa.linopf:Total preparation time: 0.5s\n",
      "INFO:pypsa.linopf:Solve linear problem using Gurobi solver\n"
     ]
    },
    {
     "name": "stdout",
     "output_type": "stream",
     "text": [
      "Read LP format model from file C:\\Users\\lukas\\AppData\\Local\\Temp\\pypsa-problem-b5m0idcp.lp\n",
      "Reading time = 0.03 seconds\n",
      "obj: 10542 rows, 4900 columns, 24624 nonzeros\n"
     ]
    },
    {
     "name": "stderr",
     "output_type": "stream",
     "text": [
      "INFO:pypsa.linopf:Optimization successful. Objective value: 0.00e+00\n",
      "INFO:pypsa.linopf:Prepare linear problem\n",
      "INFO:pypsa.linopf:The argument `skip_objective` is set to True. Expecting a custom objective to be build via `extra_functionality`.\n",
      "INFO:pypsa.linopf:Total preparation time: 0.53s\n",
      "INFO:pypsa.linopf:Solve linear problem using Gurobi solver\n"
     ]
    },
    {
     "name": "stdout",
     "output_type": "stream",
     "text": [
      "Read LP format model from file C:\\Users\\lukas\\AppData\\Local\\Temp\\pypsa-problem-al6pry5z.lp\n",
      "Reading time = 0.04 seconds\n",
      "obj: 10542 rows, 4900 columns, 24624 nonzeros\n"
     ]
    },
    {
     "name": "stderr",
     "output_type": "stream",
     "text": [
      "INFO:pypsa.linopf:Optimization successful. Objective value: 0.00e+00\n",
      "INFO:pypsa.linopf:Prepare linear problem\n",
      "INFO:pypsa.linopf:The argument `skip_objective` is set to True. Expecting a custom objective to be build via `extra_functionality`.\n",
      "INFO:pypsa.linopf:Total preparation time: 0.54s\n",
      "INFO:pypsa.linopf:Solve linear problem using Gurobi solver\n"
     ]
    },
    {
     "name": "stdout",
     "output_type": "stream",
     "text": [
      "Read LP format model from file C:\\Users\\lukas\\AppData\\Local\\Temp\\pypsa-problem-4cx66nfi.lp\n",
      "Reading time = 0.03 seconds\n",
      "obj: 10542 rows, 4900 columns, 24624 nonzeros\n"
     ]
    },
    {
     "name": "stderr",
     "output_type": "stream",
     "text": [
      "INFO:pypsa.linopf:Optimization successful. Objective value: -1.19e+04\n",
      "INFO:pypsa.linopf:Prepare linear problem\n",
      "INFO:pypsa.linopf:The argument `skip_objective` is set to True. Expecting a custom objective to be build via `extra_functionality`.\n",
      "INFO:pypsa.linopf:Total preparation time: 0.58s\n",
      "INFO:pypsa.linopf:Solve linear problem using Gurobi solver\n"
     ]
    },
    {
     "name": "stdout",
     "output_type": "stream",
     "text": [
      "Read LP format model from file C:\\Users\\lukas\\AppData\\Local\\Temp\\pypsa-problem-b0qwjiqa.lp\n",
      "Reading time = 0.04 seconds\n",
      "obj: 10542 rows, 4900 columns, 24624 nonzeros\n"
     ]
    },
    {
     "name": "stderr",
     "output_type": "stream",
     "text": [
      "INFO:pypsa.linopf:Optimization successful. Objective value: -1.11e+04\n"
     ]
    },
    {
     "name": "stdout",
     "output_type": "stream",
     "text": [
      "####### EPSILON ###############\n",
      "0.0039032489401532333\n"
     ]
    }
   ],
   "source": [
    "\n",
    "MAA_convergence_tol = 0.05 # How much the volume stops changing before we stop, in %\n",
    "dim=len(mga_variables) # number of dimensions \n",
    "dim_fullD = len(variables)\n",
    "old_volume = 0 \n",
    "epsilon = 1\n",
    "directions_searched = np.empty([0,dim])\n",
    "hull = None\n",
    "computations = 0\n",
    "\n",
    "solutions = np.empty(shape=[0,dim])\n",
    "\n",
    "while epsilon>MAA_convergence_tol:\n",
    "\n",
    "    if len(solutions) <= 1:\n",
    "        directions = np.concatenate([np.diag(np.ones(dim)),-np.diag(np.ones(dim))],axis=0)\n",
    "    else :\n",
    "        directions = -np.array(hull.equations)[:,0:-1]\n",
    "    directions_searched = np.concatenate([directions_searched,directions],axis=0)\n",
    "\n",
    "    # Run computations in series\n",
    "    for direction_i in directions:\n",
    "        res = search_direction(direction_i,mga_variables)\n",
    "        solutions = np.append(solutions,np.array([res]),axis=0)\n",
    "\n",
    "\n",
    "    hull = ConvexHull(solutions)\n",
    "\n",
    "    delta_v = hull.volume - old_volume\n",
    "    old_volume = hull.volume\n",
    "    epsilon = delta_v/hull.volume\n",
    "    print('####### EPSILON ###############')\n",
    "    print(epsilon)\n"
   ]
  },
  {
   "cell_type": "code",
   "execution_count": 22,
   "metadata": {},
   "outputs": [
    {
     "data": {
      "image/png": "[encoded data removed]",
      "text/plain": [
       "<Figure size 432x288 with 1 Axes>"
      ]
     },
     "metadata": {
      "needs_background": "light"
     },
     "output_type": "display_data"
    }
   ],
   "source": [
    "%matplotlib inline\n",
    "import matplotlib.pyplot as plt\n",
    "\n",
    "Hull = ConvexHull(solutions)\n",
    "\n",
    "plt.figure()\n",
    "plt.plot(solutions[:,0], solutions[:,1], 'o')\n",
    "\n",
    "for simplex in hull.simplices:\n",
    "\n",
    "    plt.plot(solutions[simplex, 0], solutions[simplex, 1], 'k-')"
   ]
  },
  {
   "cell_type": "code",
   "execution_count": 24,
   "metadata": {},
   "outputs": [
    {
     "data": {
      "image/png": "[encoded data removed]",
      "text/plain": [
       "<Figure size 432x288 with 1 Axes>"
      ]
     },
     "metadata": {
      "needs_background": "light"
     },
     "output_type": "display_data"
    }
   ],
   "source": [
    "%matplotlib inline\n",
    "import matplotlib.pyplot as plt\n",
    "\n",
    "Hull = ConvexHull(solutions)\n",
    "\n",
    "plt.figure()\n",
    "plt.plot(solutions[:,0], solutions[:,1], 'o')\n",
    "\n",
    "for simplex in hull.simplices:\n",
    "\n",
    "    plt.plot(solutions[simplex, 0], solutions[simplex, 1], 'k-')"
   ]
  },
  {
   "cell_type": "code",
   "execution_count": 29,
   "metadata": {},
   "outputs": [
    {
     "data": {
      "image/png": "[encoded data removed]",
      "text/plain": [
       "<Figure size 432x288 with 1 Axes>"
      ]
     },
     "metadata": {
      "needs_background": "light"
     },
     "output_type": "display_data"
    }
   ],
   "source": [
    "%matplotlib inline\n",
    "import matplotlib.pyplot as plt\n",
    "\n",
    "Hull = ConvexHull(solutions)\n",
    "\n",
    "plt.figure()\n",
    "plt.plot(solutions[:,0], solutions[:,1], 'o')\n",
    "\n",
    "for simplex in hull.simplices:\n",
    "\n",
    "    plt.plot(solutions[simplex, 0], solutions[simplex, 1], 'k-')"
   ]
  },
  {
   "cell_type": "code",
   "execution_count": null,
   "metadata": {},
   "outputs": [],
   "source": []
  }
 ],
 "metadata": {
  "kernelspec": {
   "display_name": "Python 3 (ipykernel)",
   "language": "python",
   "name": "python3"
  },
  "language_info": {
   "codemirror_mode": {
    "name": "ipython",
    "version": 3
   },
   "file_extension": ".py",
   "mimetype": "text/x-python",
   "name": "python",
   "nbconvert_exporter": "python",
   "pygments_lexer": "ipython3",
   "version": "3.9.7"
  },
  "vscode": {
   "interpreter": {
    "hash": "91c173c58af5a8b7f19c6de99651fb4611c077aaae1d8dec9dc75c543ea9e79b"
   }
  }
 },
 "nbformat": 4,
 "nbformat_minor": 4
}
