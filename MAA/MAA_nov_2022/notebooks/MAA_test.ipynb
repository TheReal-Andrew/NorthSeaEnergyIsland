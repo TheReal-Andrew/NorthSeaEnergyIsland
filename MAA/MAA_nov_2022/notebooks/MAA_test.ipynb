{
 "cells": [
  {
   "cell_type": "code",
   "execution_count": 27,
   "metadata": {},
   "outputs": [],
   "source": [
    "import pypsa \n",
    "import numpy as np\n",
    "from pypsa.linopt import get_var, linexpr, join_exprs, define_constraints, get_dual, get_con, write_objective, get_sol, define_variables\n",
    "from pypsa.descriptors import nominal_attrs\n",
    "from pypsa.linopf import lookup, network_lopf, ilopf\n",
    "from pypsa.pf import get_switchable_as_dense as get_as_dense\n",
    "from pypsa.descriptors import get_extendable_i, get_non_extendable_i\n",
    "import matplotlib.pyplot as plt\n",
    "import pandas as pd\n",
    "from scipy.spatial import ConvexHull\n",
    "import os\n",
    "import sys"
   ]
  },
  {
   "cell_type": "code",
   "execution_count": 28,
   "metadata": {},
   "outputs": [],
   "source": [
    "\n",
    "def extra_functionality(n,snapshots,options,direction):\n",
    "    define_mga_constraint(n,snapshots,options['mga_slack'])\n",
    "    define_mga_objective(n,snapshots,direction,options)\n",
    "\n",
    "\n",
    "\n",
    "def assign_carriers(n):\n",
    "    \"\"\"\n",
    "    Author: Fabian Neumann \n",
    "    Source: https://github.com/PyPSA/pypsa-eur-mga\n",
    "    \"\"\"\n",
    "\n",
    "    if \"Load\" in n.carriers.index:\n",
    "        n.carriers = n.carriers.drop(\"Load\")\n",
    "\n",
    "    if \"carrier\" not in n.lines:\n",
    "        n.lines[\"carrier\"] = \"AC\"\n",
    "\n",
    "    if n.links.empty:\n",
    "        n.links[\"carrier\"] = pd.Series(dtype=str)\n",
    "\n",
    "    config = {\n",
    "        \"AC\": {\"color\": \"rosybrown\", \"nice_name\": \"HVAC Line\"},\n",
    "        \"DC\": {\"color\": \"darkseagreen\", \"nice_name\": \"HVDC Link\"},\n",
    "    }\n",
    "    for c in [\"AC\", \"DC\"]:\n",
    "        if c in n.carriers.index:\n",
    "            continue\n",
    "        n.carriers = n.carriers.append(pd.Series(config[c], name=c))\n",
    "\n",
    "def define_mga_constraint(n, sns, epsilon=None, with_fix=False):\n",
    "    \"\"\"\n",
    "    Author: Fabian Neumann \n",
    "    Source: https://github.com/PyPSA/pypsa-eur-mga\n",
    "    \n",
    "    Build constraint defining near-optimal feasible space\n",
    "    Parameters\n",
    "    ----------\n",
    "    n : pypsa.Network\n",
    "    sns : Series|list-like\n",
    "        snapshots\n",
    "    epsilon : float, optional\n",
    "        Allowed added cost compared to least-cost solution, by default None\n",
    "    with_fix : bool, optional\n",
    "        Calculation of allowed cost penalty should include cost of non-extendable components, by default None\n",
    "    \"\"\"\n",
    "\n",
    "    if epsilon is None:\n",
    "        epsilon = float(snakemake.wildcards.epsilon)\n",
    "\n",
    "    if with_fix is None:\n",
    "        with_fix = snakemake.config.get(\"include_non_extendable\", True)\n",
    "\n",
    "    expr = []\n",
    "\n",
    "    # operation\n",
    "    for c, attr in lookup.query(\"marginal_cost\").index:\n",
    "        cost = (\n",
    "            get_as_dense(n, c, \"marginal_cost\", sns)\n",
    "            .loc[:, lambda ds: (ds != 0).all()]\n",
    "            .mul(n.snapshot_weightings.loc[sns,'objective'], axis=0)\n",
    "        )\n",
    "        if cost.empty:\n",
    "            continue\n",
    "        expr.append(linexpr((cost, get_var(n, c, attr).loc[sns, cost.columns])).stack())\n",
    "\n",
    "    # investment\n",
    "    for c, attr in nominal_attrs.items():\n",
    "        cost = n.df(c)[\"capital_cost\"][get_extendable_i(n, c)]\n",
    "        if cost.empty:\n",
    "            continue\n",
    "        expr.append(linexpr((cost, get_var(n, c, attr)[cost.index])))\n",
    "\n",
    "    lhs = pd.concat(expr).sum()\n",
    "\n",
    "    if with_fix:\n",
    "        ext_const = objective_constant(n, ext=True, nonext=False)\n",
    "        nonext_const = objective_constant(n, ext=False, nonext=True)\n",
    "        rhs = (1 + epsilon) * (n.objective_optimum + ext_const + nonext_const) - nonext_const\n",
    "    else:\n",
    "        ext_const = objective_constant(n)\n",
    "        rhs = (1 + epsilon) * (n.objective_optimum + ext_const)\n",
    "\n",
    "    define_constraints(n, lhs, \"<=\", rhs, \"GlobalConstraint\", \"mu_epsilon\")\n",
    "\n",
    "def objective_constant(n, ext=True, nonext=True):\n",
    "    \"\"\"\n",
    "    Author: Fabian Neumann \n",
    "    Source: https://github.com/PyPSA/pypsa-eur-mga\n",
    "    \"\"\"\n",
    "\n",
    "    if not (ext or nonext):\n",
    "        return 0.0\n",
    "\n",
    "    constant = 0.0\n",
    "    for c, attr in nominal_attrs.items():\n",
    "        i = pd.Index([])\n",
    "        if ext:\n",
    "            i = i.append(get_extendable_i(n, c))\n",
    "        if nonext:\n",
    "            i = i.append(get_non_extendable_i(n, c))\n",
    "        constant += n.df(c)[attr][i] @ n.df(c).capital_cost[i]\n",
    "\n",
    "    return constant\n",
    "\n",
    "\n",
    "def define_mga_objective(n,snapshots,direction,options):\n",
    "    mga_variables = options['mga_variables']\n",
    "    expr_list = []\n",
    "    for dir_i,var_i in zip(direction,mga_variables):\n",
    "        model_vars = get_var(n,var_i[0],'p_nom')[n.df(var_i[0]).carrier == var_i[1]]\n",
    "        tmp_expr = linexpr((dir_i/len(model_vars),model_vars)).sum()\n",
    "        expr_list.append(tmp_expr)\n",
    "\n",
    "    mga_obj = join_exprs(np.array(expr_list))\n",
    "    write_objective(n,mga_obj)\n",
    "\n",
    "\n",
    "def get_var_values(n,mga_variables):\n",
    "\n",
    "    variable_values = {}\n",
    "    for var_i in variables:\n",
    "        val = n.df(variables[var_i][0]).query('carrier == \"{}\"'.format(variables[var_i][1])).p_nom_opt.sum()\n",
    "        variable_values[var_i] = val\n",
    "\n",
    "    return variable_values"
   ]
  },
  {
   "cell_type": "code",
   "execution_count": 29,
   "metadata": {},
   "outputs": [
    {
     "name": "stderr",
     "output_type": "stream",
     "text": [
      "WARNING:pypsa.io:\n",
      "Importing PyPSA from older version of PyPSA than current version.\n",
      "Please read the release notes at https://pypsa.readthedocs.io/en/latest/release_notes.html\n",
      "carefully to prepare your network for import.\n",
      "Currently used PyPSA version [0, 20, 0], imported network file PyPSA version [0, 17, 1].\n",
      "\n",
      "INFO:pypsa.components:Applying weightings to all columns of `snapshot_weightings`\n",
      "INFO:pypsa.io:Imported network elec_s_37_ec_lcopt_Co2L.nc has buses, carriers, generators, global_constraints, lines, links, loads, storage_units\n"
     ]
    }
   ],
   "source": [
    "n = pypsa.Network('../networks/elec_s_37_ec_lcopt_Co2L.nc')"
   ]
  },
  {
   "cell_type": "code",
   "execution_count": 30,
   "metadata": {},
   "outputs": [],
   "source": [
    "n.snapshots = n.snapshots[:10]\n",
    "n.snapshot_weightings = n.snapshot_weightings[:10]"
   ]
  },
  {
   "cell_type": "code",
   "execution_count": 31,
   "metadata": {},
   "outputs": [
    {
     "name": "stderr",
     "output_type": "stream",
     "text": [
      "INFO:pypsa.linopf:Prepare linear problem\n",
      "INFO:pypsa.linopf:Total preparation time: 0.51s\n",
      "INFO:pypsa.linopf:Solve linear problem using Glpk solver\n",
      "INFO:pypsa.linopf:Optimization successful. Objective value: 4.97e+10\n"
     ]
    },
    {
     "data": {
      "text/plain": [
       "('ok', 'optimal')"
      ]
     },
     "execution_count": 31,
     "metadata": {},
     "output_type": "execute_result"
    }
   ],
   "source": [
    "n.lopf(pyomo = False,\n",
    "      #solver_name = 'gurobi'\n",
    "      )"
   ]
  },
  {
   "cell_type": "code",
   "execution_count": 32,
   "metadata": {},
   "outputs": [
    {
     "data": {
      "text/plain": [
       "49730454660.0"
      ]
     },
     "execution_count": 32,
     "metadata": {},
     "output_type": "execute_result"
    }
   ],
   "source": [
    "n.objective"
   ]
  },
  {
   "cell_type": "code",
   "execution_count": 41,
   "metadata": {},
   "outputs": [],
   "source": [
    "#n.objective_optimum = 203.73600192008445*1e9\n",
    "n.objective_optimum = 49730454660.0"
   ]
  },
  {
   "cell_type": "code",
   "execution_count": 51,
   "metadata": {},
   "outputs": [
    {
     "data": {
      "text/plain": [
       "array(['offwind-ac', 'onwind', 'solar', 'OCGT', 'offwind-dc'],\n",
       "      dtype=object)"
      ]
     },
     "execution_count": 51,
     "metadata": {},
     "output_type": "execute_result"
    }
   ],
   "source": [
    "n.generators.loc[:,\"carrier\"].unique()"
   ]
  },
  {
   "cell_type": "code",
   "execution_count": 54,
   "metadata": {},
   "outputs": [],
   "source": [
    "variables = {'x1':('Generator','onwind'),\n",
    "            'x2':('Generator','offwind-ac'),\n",
    "            'x3':('Generator','offwind-dc'),\n",
    "            'x4':('Generator','solar'),\n",
    "            'x5':('StorageUnit','H2'),\n",
    "            'x6':('Link','DC')\n",
    "            }"
   ]
  },
  {
   "cell_type": "markdown",
   "metadata": {},
   "source": [
    "## Search in a single direction \n"
   ]
  },
  {
   "cell_type": "code",
   "execution_count": 55,
   "metadata": {},
   "outputs": [
    {
     "name": "stderr",
     "output_type": "stream",
     "text": [
      "INFO:pypsa.linopf:Prepare linear problem\n",
      "INFO:pypsa.linopf:The argument `skip_objective` is set to True. Expecting a custom objective to be build via `extra_functionality`.\n",
      "INFO:pypsa.linopf:Total preparation time: 0.52s\n",
      "INFO:pypsa.linopf:Solve linear problem using Gurobi solver\n"
     ]
    },
    {
     "name": "stdout",
     "output_type": "stream",
     "text": [
      "Read LP format model from file C:\\Users\\lukas\\AppData\\Local\\Temp\\pypsa-problem-eq38hcm8.lp\n",
      "Reading time = 0.03 seconds\n",
      "obj: 10542 rows, 4900 columns, 24624 nonzeros\n"
     ]
    },
    {
     "name": "stderr",
     "output_type": "stream",
     "text": [
      "INFO:pypsa.linopf:Optimization successful. Objective value: 5.17e+03\n"
     ]
    }
   ],
   "source": [
    "direction = [1,1] # 1 means minimize, -1 means maximize \n",
    "mga_variables = ['x1','x2'] # The variables that we are investigating\n",
    "\n",
    "options = dict(mga_slack=0.1,\n",
    "                mga_variables=[variables[v] for v in mga_variables])\n",
    "\n",
    "res = n.lopf(pyomo=False,\n",
    "        solver_name='gurobi',\n",
    "        keep_references=True,\n",
    "        keep_shadowprices=True,\n",
    "        skip_objective=True,\n",
    "        solver_options={'LogToConsole':0,\n",
    "                'crossover':0,\n",
    "                'BarConvTol' : 1e-6,                 \n",
    "                'FeasibilityTol' : 1e-2,\n",
    "            'threads':2},\n",
    "        extra_functionality=lambda n,s: extra_functionality(n,s,options,direction)\n",
    "    )\n"
   ]
  },
  {
   "cell_type": "code",
   "execution_count": 56,
   "metadata": {},
   "outputs": [
    {
     "data": {
      "text/plain": [
       "{'x1': 191273.39390139567,\n",
       " 'x2': 0.0,\n",
       " 'x3': 113613.02459345976,\n",
       " 'x4': 22784.448032,\n",
       " 'x5': 0.0,\n",
       " 'x6': 42341.15965423184}"
      ]
     },
     "execution_count": 56,
     "metadata": {},
     "output_type": "execute_result"
    }
   ],
   "source": [
    "all_variable_values = get_var_values(n,mga_variables)\n",
    "all_variable_values"
   ]
  },
  {
   "cell_type": "markdown",
   "metadata": {},
   "source": [
    "# MAA"
   ]
  },
  {
   "cell_type": "code",
   "execution_count": 44,
   "metadata": {},
   "outputs": [],
   "source": [
    "def search_direction(direction,mga_variables):\n",
    "    options = dict(mga_slack=0.1,\n",
    "                    mga_variables=[variables[v] for v in mga_variables])\n",
    "\n",
    "    res = n.lopf(pyomo=False,\n",
    "            solver_name='gurobi',\n",
    "            #keep_references=True,\n",
    "            #keep_shadowprices=True,\n",
    "            skip_objective=True,\n",
    "            solver_options={'LogToConsole':0,\n",
    "                    'crossover':0,\n",
    "                    'BarConvTol' : 1e-6,                 \n",
    "                    'FeasibilityTol' : 1e-2,\n",
    "                'threads':2},\n",
    "            extra_functionality=lambda n,s: extra_functionality(n,s,options,direction)\n",
    "        )\n",
    "\n",
    "    all_variable_values = get_var_values(n,mga_variables)\n",
    "\n",
    "    return [all_variable_values[v] for v in mga_variables]"
   ]
  },
  {
   "cell_type": "code",
   "execution_count": 45,
   "metadata": {},
   "outputs": [
    {
     "name": "stderr",
     "output_type": "stream",
     "text": [
      "INFO:pypsa.linopf:Prepare linear problem\n",
      "INFO:pypsa.linopf:The argument `skip_objective` is set to True. Expecting a custom objective to be build via `extra_functionality`.\n",
      "INFO:pypsa.linopf:Total preparation time: 0.51s\n",
      "INFO:pypsa.linopf:Solve linear problem using Gurobi solver\n"
     ]
    },
    {
     "name": "stdout",
     "output_type": "stream",
     "text": [
      "Read LP format model from file C:\\Users\\lukas\\AppData\\Local\\Temp\\pypsa-problem-_vymubff.lp\n",
      "Reading time = 0.03 seconds\n",
      "obj: 10542 rows, 4900 columns, 24624 nonzeros\n"
     ]
    },
    {
     "name": "stderr",
     "output_type": "stream",
     "text": [
      "INFO:pypsa.linopf:Optimization successful. Objective value: 4.20e+03\n",
      "INFO:pypsa.linopf:Prepare linear problem\n",
      "INFO:pypsa.linopf:The argument `skip_objective` is set to True. Expecting a custom objective to be build via `extra_functionality`.\n",
      "INFO:pypsa.linopf:Total preparation time: 0.5s\n",
      "INFO:pypsa.linopf:Solve linear problem using Gurobi solver\n"
     ]
    },
    {
     "name": "stdout",
     "output_type": "stream",
     "text": [
      "Read LP format model from file C:\\Users\\lukas\\AppData\\Local\\Temp\\pypsa-problem-e7g7koks.lp\n",
      "Reading time = 0.03 seconds\n",
      "obj: 10542 rows, 4900 columns, 24624 nonzeros\n"
     ]
    },
    {
     "name": "stderr",
     "output_type": "stream",
     "text": [
      "INFO:pypsa.linopf:Optimization successful. Objective value: 0.00e+00\n",
      "INFO:pypsa.linopf:Prepare linear problem\n",
      "INFO:pypsa.linopf:The argument `skip_objective` is set to True. Expecting a custom objective to be build via `extra_functionality`.\n",
      "INFO:pypsa.linopf:Total preparation time: 0.52s\n",
      "INFO:pypsa.linopf:Solve linear problem using Gurobi solver\n"
     ]
    },
    {
     "name": "stdout",
     "output_type": "stream",
     "text": [
      "Read LP format model from file C:\\Users\\lukas\\AppData\\Local\\Temp\\pypsa-problem-8s6c6njd.lp\n",
      "Reading time = 0.04 seconds\n",
      "obj: 10542 rows, 4900 columns, 24624 nonzeros\n"
     ]
    },
    {
     "name": "stderr",
     "output_type": "stream",
     "text": [
      "INFO:pypsa.linopf:Optimization successful. Objective value: -1.24e+04\n",
      "INFO:pypsa.linopf:Prepare linear problem\n",
      "INFO:pypsa.linopf:The argument `skip_objective` is set to True. Expecting a custom objective to be build via `extra_functionality`.\n",
      "INFO:pypsa.linopf:Total preparation time: 0.51s\n",
      "INFO:pypsa.linopf:Solve linear problem using Gurobi solver\n"
     ]
    },
    {
     "name": "stdout",
     "output_type": "stream",
     "text": [
      "Read LP format model from file C:\\Users\\lukas\\AppData\\Local\\Temp\\pypsa-problem-xvo0c5kd.lp\n",
      "Reading time = 0.03 seconds\n",
      "obj: 10542 rows, 4900 columns, 24624 nonzeros\n"
     ]
    },
    {
     "name": "stderr",
     "output_type": "stream",
     "text": [
      "INFO:pypsa.linopf:Optimization successful. Objective value: -4.62e+03\n",
      "INFO:pypsa.linopf:Prepare linear problem\n"
     ]
    },
    {
     "name": "stdout",
     "output_type": "stream",
     "text": [
      "####### EPSILON ###############\n",
      "1.0\n"
     ]
    },
    {
     "name": "stderr",
     "output_type": "stream",
     "text": [
      "INFO:pypsa.linopf:The argument `skip_objective` is set to True. Expecting a custom objective to be build via `extra_functionality`.\n",
      "INFO:pypsa.linopf:Total preparation time: 0.52s\n",
      "INFO:pypsa.linopf:Solve linear problem using Gurobi solver\n"
     ]
    },
    {
     "name": "stdout",
     "output_type": "stream",
     "text": [
      "Read LP format model from file C:\\Users\\lukas\\AppData\\Local\\Temp\\pypsa-problem-f5kzncn2.lp\n",
      "Reading time = 0.03 seconds\n",
      "obj: 10542 rows, 4900 columns, 24624 nonzeros\n"
     ]
    },
    {
     "name": "stderr",
     "output_type": "stream",
     "text": [
      "INFO:pypsa.linopf:Optimization successful. Objective value: 9.70e+01\n",
      "INFO:pypsa.linopf:Prepare linear problem\n",
      "INFO:pypsa.linopf:The argument `skip_objective` is set to True. Expecting a custom objective to be build via `extra_functionality`.\n",
      "INFO:pypsa.linopf:Total preparation time: 0.55s\n",
      "INFO:pypsa.linopf:Solve linear problem using Gurobi solver\n"
     ]
    },
    {
     "name": "stdout",
     "output_type": "stream",
     "text": [
      "Read LP format model from file C:\\Users\\lukas\\AppData\\Local\\Temp\\pypsa-problem-fsdlb4hi.lp\n",
      "Reading time = 0.03 seconds\n",
      "obj: 10542 rows, 4900 columns, 24624 nonzeros\n"
     ]
    },
    {
     "name": "stderr",
     "output_type": "stream",
     "text": [
      "INFO:pypsa.linopf:Optimization successful. Objective value: -6.39e+03\n",
      "INFO:pypsa.linopf:Prepare linear problem\n",
      "INFO:pypsa.linopf:The argument `skip_objective` is set to True. Expecting a custom objective to be build via `extra_functionality`.\n",
      "INFO:pypsa.linopf:Total preparation time: 0.52s\n",
      "INFO:pypsa.linopf:Solve linear problem using Gurobi solver\n"
     ]
    },
    {
     "name": "stdout",
     "output_type": "stream",
     "text": [
      "Read LP format model from file C:\\Users\\lukas\\AppData\\Local\\Temp\\pypsa-problem-9arrog2u.lp\n",
      "Reading time = 0.03 seconds\n",
      "obj: 10542 rows, 4900 columns, 24624 nonzeros\n"
     ]
    },
    {
     "name": "stderr",
     "output_type": "stream",
     "text": [
      "INFO:pypsa.linopf:Optimization successful. Objective value: 2.46e+03\n",
      "INFO:pypsa.linopf:Prepare linear problem\n",
      "INFO:pypsa.linopf:The argument `skip_objective` is set to True. Expecting a custom objective to be build via `extra_functionality`.\n",
      "INFO:pypsa.linopf:Total preparation time: 0.51s\n",
      "INFO:pypsa.linopf:Solve linear problem using Gurobi solver\n"
     ]
    },
    {
     "name": "stdout",
     "output_type": "stream",
     "text": [
      "Read LP format model from file C:\\Users\\lukas\\AppData\\Local\\Temp\\pypsa-problem-0ino5bai.lp\n",
      "Reading time = 0.03 seconds\n",
      "obj: 10542 rows, 4900 columns, 24624 nonzeros\n"
     ]
    },
    {
     "name": "stderr",
     "output_type": "stream",
     "text": [
      "INFO:pypsa.linopf:Optimization successful. Objective value: 0.00e+00\n",
      "INFO:pypsa.linopf:Prepare linear problem\n"
     ]
    },
    {
     "name": "stdout",
     "output_type": "stream",
     "text": [
      "####### EPSILON ###############\n",
      "0.40211532788605936\n"
     ]
    },
    {
     "name": "stderr",
     "output_type": "stream",
     "text": [
      "INFO:pypsa.linopf:The argument `skip_objective` is set to True. Expecting a custom objective to be build via `extra_functionality`.\n",
      "INFO:pypsa.linopf:Total preparation time: 0.55s\n",
      "INFO:pypsa.linopf:Solve linear problem using Gurobi solver\n"
     ]
    },
    {
     "name": "stdout",
     "output_type": "stream",
     "text": [
      "Read LP format model from file C:\\Users\\lukas\\AppData\\Local\\Temp\\pypsa-problem-os6sehdu.lp\n",
      "Reading time = 0.04 seconds\n",
      "obj: 10542 rows, 4900 columns, 24624 nonzeros\n"
     ]
    },
    {
     "name": "stderr",
     "output_type": "stream",
     "text": [
      "INFO:pypsa.linopf:Optimization successful. Objective value: 4.81e+03\n",
      "INFO:pypsa.linopf:Prepare linear problem\n",
      "INFO:pypsa.linopf:The argument `skip_objective` is set to True. Expecting a custom objective to be build via `extra_functionality`.\n",
      "INFO:pypsa.linopf:Total preparation time: 0.55s\n",
      "INFO:pypsa.linopf:Solve linear problem using Gurobi solver\n"
     ]
    },
    {
     "name": "stdout",
     "output_type": "stream",
     "text": [
      "Read LP format model from file C:\\Users\\lukas\\AppData\\Local\\Temp\\pypsa-problem-evponene.lp\n",
      "Reading time = 0.03 seconds\n",
      "obj: 10542 rows, 4900 columns, 24624 nonzeros\n"
     ]
    },
    {
     "name": "stderr",
     "output_type": "stream",
     "text": [
      "INFO:pypsa.linopf:Optimization successful. Objective value: 0.00e+00\n",
      "INFO:pypsa.linopf:Prepare linear problem\n",
      "INFO:pypsa.linopf:The argument `skip_objective` is set to True. Expecting a custom objective to be build via `extra_functionality`.\n",
      "INFO:pypsa.linopf:Total preparation time: 0.52s\n",
      "INFO:pypsa.linopf:Solve linear problem using Gurobi solver\n"
     ]
    },
    {
     "name": "stdout",
     "output_type": "stream",
     "text": [
      "Read LP format model from file C:\\Users\\lukas\\AppData\\Local\\Temp\\pypsa-problem-6o8mt0y1.lp\n",
      "Reading time = 0.03 seconds\n",
      "obj: 10542 rows, 4900 columns, 24624 nonzeros\n"
     ]
    },
    {
     "name": "stderr",
     "output_type": "stream",
     "text": [
      "INFO:pypsa.linopf:Optimization successful. Objective value: 1.82e+03\n",
      "INFO:pypsa.linopf:Prepare linear problem\n",
      "INFO:pypsa.linopf:The argument `skip_objective` is set to True. Expecting a custom objective to be build via `extra_functionality`.\n",
      "INFO:pypsa.linopf:Total preparation time: 0.48s\n",
      "INFO:pypsa.linopf:Solve linear problem using Gurobi solver\n"
     ]
    },
    {
     "name": "stdout",
     "output_type": "stream",
     "text": [
      "Read LP format model from file C:\\Users\\lukas\\AppData\\Local\\Temp\\pypsa-problem-iickwgb0.lp\n",
      "Reading time = 0.03 seconds\n",
      "obj: 10542 rows, 4900 columns, 24624 nonzeros\n"
     ]
    },
    {
     "name": "stderr",
     "output_type": "stream",
     "text": [
      "INFO:pypsa.linopf:Optimization successful. Objective value: -2.55e+03\n",
      "INFO:pypsa.linopf:Prepare linear problem\n",
      "INFO:pypsa.linopf:The argument `skip_objective` is set to True. Expecting a custom objective to be build via `extra_functionality`.\n",
      "INFO:pypsa.linopf:Total preparation time: 0.51s\n",
      "INFO:pypsa.linopf:Solve linear problem using Gurobi solver\n"
     ]
    },
    {
     "name": "stdout",
     "output_type": "stream",
     "text": [
      "Read LP format model from file C:\\Users\\lukas\\AppData\\Local\\Temp\\pypsa-problem-2eyohfuf.lp\n",
      "Reading time = 0.03 seconds\n",
      "obj: 10542 rows, 4900 columns, 24624 nonzeros\n"
     ]
    },
    {
     "name": "stderr",
     "output_type": "stream",
     "text": [
      "INFO:pypsa.linopf:Optimization successful. Objective value: -6.43e+03\n",
      "INFO:pypsa.linopf:Prepare linear problem\n",
      "INFO:pypsa.linopf:The argument `skip_objective` is set to True. Expecting a custom objective to be build via `extra_functionality`.\n",
      "INFO:pypsa.linopf:Total preparation time: 0.51s\n",
      "INFO:pypsa.linopf:Solve linear problem using Gurobi solver\n"
     ]
    },
    {
     "name": "stdout",
     "output_type": "stream",
     "text": [
      "Read LP format model from file C:\\Users\\lukas\\AppData\\Local\\Temp\\pypsa-problem-44glqdzh.lp\n",
      "Reading time = 0.03 seconds\n",
      "obj: 10542 rows, 4900 columns, 24624 nonzeros\n"
     ]
    },
    {
     "name": "stderr",
     "output_type": "stream",
     "text": [
      "INFO:pypsa.linopf:Optimization successful. Objective value: -5.80e+03\n"
     ]
    },
    {
     "name": "stdout",
     "output_type": "stream",
     "text": [
      "####### EPSILON ###############\n",
      "0.013050808000401183\n"
     ]
    }
   ],
   "source": [
    "\n",
    "MAA_convergence_tol = 0.05 # How much the volume stops changing before we stop, in %\n",
    "dim=len(mga_variables) # number of dimensions \n",
    "dim_fullD = len(variables)\n",
    "old_volume = 0 \n",
    "epsilon = 1\n",
    "directions_searched = np.empty([0,dim])\n",
    "hull = None\n",
    "computations = 0\n",
    "\n",
    "solutions = np.empty(shape=[0,dim])\n",
    "\n",
    "while epsilon>MAA_convergence_tol:\n",
    "\n",
    "    if len(solutions) <= 1:\n",
    "        directions = np.concatenate([np.diag(np.ones(dim)),-np.diag(np.ones(dim))],axis=0)\n",
    "    else :\n",
    "        directions = -np.array(hull.equations)[:,0:-1]\n",
    "    directions_searched = np.concatenate([directions_searched,directions],axis=0)\n",
    "\n",
    "    # Run computations in series\n",
    "    for direction_i in directions:\n",
    "        res = search_direction(direction_i,mga_variables)\n",
    "        solutions = np.append(solutions,np.array([res]),axis=0)\n",
    "\n",
    "\n",
    "    hull = ConvexHull(solutions)\n",
    "\n",
    "    delta_v = hull.volume - old_volume\n",
    "    old_volume = hull.volume\n",
    "    epsilon = delta_v/hull.volume\n",
    "    print('####### EPSILON ###############')\n",
    "    print(epsilon)\n"
   ]
  },
  {
   "cell_type": "code",
   "execution_count": 46,
   "metadata": {},
   "outputs": [
    {
     "data": {
      "image/png": "[encoded data removed]",
      "text/plain": [
       "<Figure size 432x288 with 1 Axes>"
      ]
     },
     "metadata": {
      "needs_background": "light"
     },
     "output_type": "display_data"
    }
   ],
   "source": [
    "%matplotlib inline\n",
    "import matplotlib.pyplot as plt\n",
    "\n",
    "Hull = ConvexHull(solutions)\n",
    "\n",
    "plt.figure()\n",
    "plt.plot(solutions[:,0], solutions[:,1], 'o')\n",
    "\n",
    "for simplex in hull.simplices:\n",
    "\n",
    "    plt.plot(solutions[simplex, 0], solutions[simplex, 1], 'k-')"
   ]
  },
  {
   "cell_type": "code",
   "execution_count": 57,
   "metadata": {},
   "outputs": [
    {
     "data": {
      "text/plain": [
       "<matplotlib.quiver.Quiver at 0x1916163ad00>"
      ]
     },
     "execution_count": 57,
     "metadata": {},
     "output_type": "execute_result"
    },
    {
     "data": {
      "image/png": "[encoded data removed]",
      "text/plain": [
       "<Figure size 432x288 with 2 Axes>"
      ]
     },
     "metadata": {
      "needs_background": "light"
     },
     "output_type": "display_data"
    }
   ],
   "source": [
    "# -- Plot lines between points --\n",
    "plt.plot(solutions[:,0], solutions[:,1], '--')\n",
    "\n",
    "# -- Plot index at points --\n",
    "#for i in range(solutions.shape[0]):\n",
    "#    plt.text(solutions[i,0], solutions[i,1], str(i))\n",
    "\n",
    "# -- Plot points with colors and scaling --\n",
    "s = np.linspace(60, 5, len(solutions))\n",
    "plt.scatter(solutions[:,0],solutions[:,1], c = np.arange(0, len(solutions)), s=s)\n",
    "plt.colorbar()\n",
    "\n",
    "# -- Plot arrows showing direction between points --\n",
    "u = np.diff(solutions[:,0])\n",
    "v = np.diff(solutions[:,1])\n",
    "pos_x = solutions[:,0][:-1] + u/2\n",
    "pos_y = solutions[:,1][:-1] + v/2\n",
    "norm = np.sqrt(u**2+v**2) \n",
    "plt.quiver(pos_x, pos_y, u/norm, v/norm, angles=\"xy\", zorder=5, pivot=\"mid\")"
   ]
  },
  {
   "cell_type": "code",
   "execution_count": null,
   "metadata": {},
   "outputs": [],
   "source": []
  }
 ],
 "metadata": {
  "kernelspec": {
   "display_name": "Python 3 (ipykernel)",
   "language": "python",
   "name": "python3"
  },
  "language_info": {
   "codemirror_mode": {
    "name": "ipython",
    "version": 3
   },
   "file_extension": ".py",
   "mimetype": "text/x-python",
   "name": "python",
   "nbconvert_exporter": "python",
   "pygments_lexer": "ipython3",
   "version": "3.9.7"
  },
  "vscode": {
   "interpreter": {
    "hash": "91c173c58af5a8b7f19c6de99651fb4611c077aaae1d8dec9dc75c543ea9e79b"
   }
  }
 },
 "nbformat": 4,
 "nbformat_minor": 4
}
